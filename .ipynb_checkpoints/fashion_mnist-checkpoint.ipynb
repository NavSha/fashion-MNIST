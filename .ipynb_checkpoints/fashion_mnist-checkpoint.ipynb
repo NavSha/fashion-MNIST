{
 "cells": [
  {
   "cell_type": "code",
   "execution_count": 1,
   "metadata": {},
   "outputs": [
    {
     "name": "stderr",
     "output_type": "stream",
     "text": [
      "Using TensorFlow backend.\n",
      "/Users/NavSha/miniconda2/envs/tensorflow/lib/python3.7/site-packages/tensorflow/python/framework/dtypes.py:526: FutureWarning: Passing (type, 1) or '1type' as a synonym of type is deprecated; in a future version of numpy, it will be understood as (type, (1,)) / '(1,)type'.\n",
      "  _np_qint8 = np.dtype([(\"qint8\", np.int8, 1)])\n",
      "/Users/NavSha/miniconda2/envs/tensorflow/lib/python3.7/site-packages/tensorflow/python/framework/dtypes.py:527: FutureWarning: Passing (type, 1) or '1type' as a synonym of type is deprecated; in a future version of numpy, it will be understood as (type, (1,)) / '(1,)type'.\n",
      "  _np_quint8 = np.dtype([(\"quint8\", np.uint8, 1)])\n",
      "/Users/NavSha/miniconda2/envs/tensorflow/lib/python3.7/site-packages/tensorflow/python/framework/dtypes.py:528: FutureWarning: Passing (type, 1) or '1type' as a synonym of type is deprecated; in a future version of numpy, it will be understood as (type, (1,)) / '(1,)type'.\n",
      "  _np_qint16 = np.dtype([(\"qint16\", np.int16, 1)])\n",
      "/Users/NavSha/miniconda2/envs/tensorflow/lib/python3.7/site-packages/tensorflow/python/framework/dtypes.py:529: FutureWarning: Passing (type, 1) or '1type' as a synonym of type is deprecated; in a future version of numpy, it will be understood as (type, (1,)) / '(1,)type'.\n",
      "  _np_quint16 = np.dtype([(\"quint16\", np.uint16, 1)])\n",
      "/Users/NavSha/miniconda2/envs/tensorflow/lib/python3.7/site-packages/tensorflow/python/framework/dtypes.py:530: FutureWarning: Passing (type, 1) or '1type' as a synonym of type is deprecated; in a future version of numpy, it will be understood as (type, (1,)) / '(1,)type'.\n",
      "  _np_qint32 = np.dtype([(\"qint32\", np.int32, 1)])\n",
      "/Users/NavSha/miniconda2/envs/tensorflow/lib/python3.7/site-packages/tensorflow/python/framework/dtypes.py:535: FutureWarning: Passing (type, 1) or '1type' as a synonym of type is deprecated; in a future version of numpy, it will be understood as (type, (1,)) / '(1,)type'.\n",
      "  np_resource = np.dtype([(\"resource\", np.ubyte, 1)])\n"
     ]
    }
   ],
   "source": [
    "import keras\n",
    "import numpy as np\n",
    "import os\n",
    "from keras.callbacks import ModelCheckpoint, EarlyStopping, ReduceLROnPlateau, TensorBoard\n",
    "import matplotlib.pyplot as plt\n",
    "import datetime\n",
    "os.environ['KMP_DUPLICATE_LIB_OK']='True'"
   ]
  },
  {
   "cell_type": "code",
   "execution_count": 2,
   "metadata": {},
   "outputs": [],
   "source": [
    "#laod the Fashion MNIST data\n",
    "fashion_mnist = keras.datasets.fashion_mnist\n",
    "(train_images,train_labels),(test_images,test_labels) = fashion_mnist.load_data()\n"
   ]
  },
  {
   "cell_type": "code",
   "execution_count": 3,
   "metadata": {},
   "outputs": [],
   "source": [
    "# Deviding pixel values by 255 to get them between 0-1 for easier training\n",
    "train_images = train_images.reshape((60000,28,28,1))\n",
    "train_images = train_images/255.0\n",
    "test_images = test_images.reshape((10000,28,28,1))\n",
    "test_images = test_images/255.0"
   ]
  },
  {
   "cell_type": "code",
   "execution_count": 4,
   "metadata": {},
   "outputs": [],
   "source": [
    "#lets create validation data from the training dataset\n",
    "val_train_images  = train_images[:10000]\n",
    "val_train_labels = train_labels[:10000]"
   ]
  },
  {
   "cell_type": "code",
   "execution_count": 5,
   "metadata": {},
   "outputs": [],
   "source": [
    "#Remaining training data\n",
    "partial_train_images = train_images[10000:]\n",
    "partial_train_labels = train_labels[10000:]"
   ]
  },
  {
   "cell_type": "code",
   "execution_count": 6,
   "metadata": {},
   "outputs": [],
   "source": [
    "# Save classnames for later use\n",
    "class_names = ['T-shirt/top', 'Trouser', 'Pullover', 'Dress', 'Coat',\n",
    "               'Sandal', 'Shirt', 'Sneaker', 'Bag', 'Ankle boot']"
   ]
  },
  {
   "cell_type": "code",
   "execution_count": 7,
   "metadata": {},
   "outputs": [],
   "source": [
    "#define a small neural network\n",
    "#model2 = keras.Sequential([\n",
    "#    keras.layers.Flatten(input_shape = (28,28)),\n",
    "#    keras.layers.Dense(512, activation = 'relu'),\n",
    "#    #keras.layers.Dropout(0.5),\n",
    "#    keras.layers.Dense(128,activation = 'relu'),\n",
    "#    #keras.layers.Dropout(0.5),\n",
    "#    keras.layers.Dense(10, activation = 'softmax')\n",
    "#])\n",
    "#model2.summary()"
   ]
  },
  {
   "cell_type": "code",
   "execution_count": 8,
   "metadata": {},
   "outputs": [
    {
     "name": "stdout",
     "output_type": "stream",
     "text": [
      "WARNING:tensorflow:From /Users/NavSha/miniconda2/envs/tensorflow/lib/python3.7/site-packages/tensorflow/python/framework/op_def_library.py:263: colocate_with (from tensorflow.python.framework.ops) is deprecated and will be removed in a future version.\n",
      "Instructions for updating:\n",
      "Colocations handled automatically by placer.\n",
      "WARNING:tensorflow:From /Users/NavSha/miniconda2/envs/tensorflow/lib/python3.7/site-packages/keras/backend/tensorflow_backend.py:3445: calling dropout (from tensorflow.python.ops.nn_ops) with keep_prob is deprecated and will be removed in a future version.\n",
      "Instructions for updating:\n",
      "Please use `rate` instead of `keep_prob`. Rate should be set to `rate = 1 - keep_prob`.\n",
      "_________________________________________________________________\n",
      "Layer (type)                 Output Shape              Param #   \n",
      "=================================================================\n",
      "conv2d_1 (Conv2D)            (None, 26, 26, 32)        320       \n",
      "_________________________________________________________________\n",
      "max_pooling2d_1 (MaxPooling2 (None, 13, 13, 32)        0         \n",
      "_________________________________________________________________\n",
      "dropout_1 (Dropout)          (None, 13, 13, 32)        0         \n",
      "_________________________________________________________________\n",
      "conv2d_2 (Conv2D)            (None, 11, 11, 64)        18496     \n",
      "_________________________________________________________________\n",
      "max_pooling2d_2 (MaxPooling2 (None, 5, 5, 64)          0         \n",
      "_________________________________________________________________\n",
      "dropout_2 (Dropout)          (None, 5, 5, 64)          0         \n",
      "_________________________________________________________________\n",
      "flatten_1 (Flatten)          (None, 1600)              0         \n",
      "_________________________________________________________________\n",
      "dense_1 (Dense)              (None, 512)               819712    \n",
      "_________________________________________________________________\n",
      "dense_2 (Dense)              (None, 10)                5130      \n",
      "=================================================================\n",
      "Total params: 843,658\n",
      "Trainable params: 843,658\n",
      "Non-trainable params: 0\n",
      "_________________________________________________________________\n"
     ]
    }
   ],
   "source": [
    "#define a small CNN network\n",
    "model = keras.Sequential([\n",
    "    keras.layers.Conv2D(32, (3,3), activation = 'relu', input_shape=(28,28,1)),\n",
    "    keras.layers.MaxPooling2D((2,2)),\n",
    "    keras.layers.Dropout(0.25),\n",
    "    keras.layers.Conv2D(64, (3,3), activation = 'relu'),\n",
    "    keras.layers.MaxPooling2D((2,2)),\n",
    "    keras.layers.Dropout(0.25),\n",
    "    keras.layers.Flatten(),\n",
    "    keras.layers.Dense(512, activation = 'relu'),\n",
    "    keras.layers.Dense(10, activation = 'softmax')\n",
    "])\n",
    "model.summary()"
   ]
  },
  {
   "cell_type": "code",
   "execution_count": 9,
   "metadata": {},
   "outputs": [],
   "source": [
    "# compile the model defined above\n",
    "model.compile(optimizer = 'adam', loss = 'sparse_categorical_crossentropy', metrics = ['accuracy'])"
   ]
  },
  {
   "cell_type": "code",
   "execution_count": 10,
   "metadata": {},
   "outputs": [],
   "source": [
    "#Add callbacks for more efficient training of the models\n",
    "#log_dir = \"logs/fit/\" + datetime.datetime.now().strftime(\"%Y%m%d-%H%M%S\")\n",
    "stop = EarlyStopping(monitor = 'val_loss', patience = 3,verbose=1)\n",
    "checkpoint = ModelCheckpoint(filepath='fashion_mnist_weights.h5',monitor='val_loss',verbose = 1, save_best_only = True)\n",
    "#reduce = ReduceLROnPlateau(monitor='val_loss',factor = 0.1, patience = 2, verbose = 1)\n",
    "#tensorboard = TensorBoard(log_dir=log_dir, histogram_freq=1, batch_size=128, write_graph = True, write_grads = True, write_images = True)\n",
    "\n"
   ]
  },
  {
   "cell_type": "code",
   "execution_count": 11,
   "metadata": {},
   "outputs": [
    {
     "name": "stdout",
     "output_type": "stream",
     "text": [
      "WARNING:tensorflow:From /Users/NavSha/miniconda2/envs/tensorflow/lib/python3.7/site-packages/tensorflow/python/ops/math_ops.py:3066: to_int32 (from tensorflow.python.ops.math_ops) is deprecated and will be removed in a future version.\n",
      "Instructions for updating:\n",
      "Use tf.cast instead.\n",
      "Train on 50000 samples, validate on 10000 samples\n",
      "Epoch 1/20\n",
      "50000/50000 [==============================] - 97s 2ms/step - loss: 0.5938 - acc: 0.7852 - val_loss: 0.4065 - val_acc: 0.8487\n",
      "\n",
      "Epoch 00001: val_loss improved from inf to 0.40652, saving model to fashion_mnist_weights.h5\n",
      "Epoch 2/20\n",
      "50000/50000 [==============================] - 89s 2ms/step - loss: 0.3878 - acc: 0.8582 - val_loss: 0.3247 - val_acc: 0.8848\n",
      "\n",
      "Epoch 00002: val_loss improved from 0.40652 to 0.32465, saving model to fashion_mnist_weights.h5\n",
      "Epoch 3/20\n",
      "50000/50000 [==============================] - 108s 2ms/step - loss: 0.3384 - acc: 0.8773 - val_loss: 0.2899 - val_acc: 0.8930\n",
      "\n",
      "Epoch 00003: val_loss improved from 0.32465 to 0.28989, saving model to fashion_mnist_weights.h5\n",
      "Epoch 4/20\n",
      "50000/50000 [==============================] - 100s 2ms/step - loss: 0.3024 - acc: 0.8871 - val_loss: 0.2676 - val_acc: 0.9054\n",
      "\n",
      "Epoch 00004: val_loss improved from 0.28989 to 0.26756, saving model to fashion_mnist_weights.h5\n",
      "Epoch 5/20\n",
      "50000/50000 [==============================] - 752s 15ms/step - loss: 0.2816 - acc: 0.8952 - val_loss: 0.2642 - val_acc: 0.9021\n",
      "\n",
      "Epoch 00005: val_loss improved from 0.26756 to 0.26420, saving model to fashion_mnist_weights.h5\n",
      "Epoch 6/20\n",
      "50000/50000 [==============================] - 106s 2ms/step - loss: 0.2646 - acc: 0.9020 - val_loss: 0.2548 - val_acc: 0.9036\n",
      "\n",
      "Epoch 00006: val_loss improved from 0.26420 to 0.25477, saving model to fashion_mnist_weights.h5\n",
      "Epoch 7/20\n",
      "50000/50000 [==============================] - 88s 2ms/step - loss: 0.2474 - acc: 0.9087 - val_loss: 0.2391 - val_acc: 0.9117\n",
      "\n",
      "Epoch 00007: val_loss improved from 0.25477 to 0.23906, saving model to fashion_mnist_weights.h5\n",
      "Epoch 8/20\n",
      "50000/50000 [==============================] - 85s 2ms/step - loss: 0.2352 - acc: 0.9122 - val_loss: 0.2448 - val_acc: 0.9081\n",
      "\n",
      "Epoch 00008: val_loss did not improve from 0.23906\n",
      "Epoch 9/20\n",
      "50000/50000 [==============================] - 86s 2ms/step - loss: 0.2234 - acc: 0.9165 - val_loss: 0.2249 - val_acc: 0.9172\n",
      "\n",
      "Epoch 00009: val_loss improved from 0.23906 to 0.22493, saving model to fashion_mnist_weights.h5\n",
      "Epoch 10/20\n",
      "50000/50000 [==============================] - 91s 2ms/step - loss: 0.2102 - acc: 0.9220 - val_loss: 0.2176 - val_acc: 0.9184\n",
      "\n",
      "Epoch 00010: val_loss improved from 0.22493 to 0.21764, saving model to fashion_mnist_weights.h5\n",
      "Epoch 11/20\n",
      "50000/50000 [==============================] - 94s 2ms/step - loss: 0.2027 - acc: 0.9239 - val_loss: 0.2372 - val_acc: 0.9073\n",
      "\n",
      "Epoch 00011: val_loss did not improve from 0.21764\n",
      "Epoch 12/20\n",
      "50000/50000 [==============================] - 84s 2ms/step - loss: 0.1923 - acc: 0.9283 - val_loss: 0.2374 - val_acc: 0.9120\n",
      "\n",
      "Epoch 00012: val_loss did not improve from 0.21764\n",
      "Epoch 13/20\n",
      "50000/50000 [==============================] - 85s 2ms/step - loss: 0.1830 - acc: 0.9304 - val_loss: 0.2141 - val_acc: 0.9196\n",
      "\n",
      "Epoch 00013: val_loss improved from 0.21764 to 0.21415, saving model to fashion_mnist_weights.h5\n",
      "Epoch 14/20\n",
      "50000/50000 [==============================] - 550s 11ms/step - loss: 0.1729 - acc: 0.9339 - val_loss: 0.2173 - val_acc: 0.9190\n",
      "\n",
      "Epoch 00014: val_loss did not improve from 0.21415\n",
      "Epoch 15/20\n",
      "50000/50000 [==============================] - 137s 3ms/step - loss: 0.1640 - acc: 0.9376 - val_loss: 0.2222 - val_acc: 0.9166\n",
      "\n",
      "Epoch 00015: val_loss did not improve from 0.21415\n",
      "Epoch 16/20\n",
      "50000/50000 [==============================] - 134s 3ms/step - loss: 0.1557 - acc: 0.9411 - val_loss: 0.2216 - val_acc: 0.9166\n",
      "\n",
      "Epoch 00016: val_loss did not improve from 0.21415\n",
      "Epoch 00016: early stopping\n"
     ]
    }
   ],
   "source": [
    "#train the model on the partial training data and save results in history object\n",
    "history = model.fit(partial_train_images,partial_train_labels, epochs = 20, batch_size = 128, validation_data = (val_train_images,val_train_labels), callbacks = [stop,checkpoint])\n",
    "\n"
   ]
  },
  {
   "cell_type": "code",
   "execution_count": 12,
   "metadata": {},
   "outputs": [],
   "source": [
    "#save model weights in a h5 file\n",
    "model.save('fashion_mnist_weights.h5')\n",
    "#save model in a json file\n",
    "model_json = model.to_json()\n",
    "with open('fashion_mnist_model.json',\"w\") as json_file:\n",
    "    json_file.write(model_json)"
   ]
  },
  {
   "cell_type": "code",
   "execution_count": 13,
   "metadata": {},
   "outputs": [
    {
     "data": {
      "image/png": "[encoded data removed]",
      "text/plain": [
       "<Figure size 432x288 with 1 Axes>"
      ]
     },
     "metadata": {
      "needs_background": "light"
     },
     "output_type": "display_data"
    },
    {
     "data": {
      "image/png": "[encoded data removed]",
      "text/plain": [
       "<Figure size 432x288 with 1 Axes>"
      ]
     },
     "metadata": {
      "needs_background": "light"
     },
     "output_type": "display_data"
    }
   ],
   "source": [
    "#plot loss and validation curves during Training\n",
    "acc = history.history['acc']\n",
    "val_acc = history.history['val_acc']\n",
    "loss = history.history['loss']\n",
    "val_loss = history.history['val_loss']\n",
    "\n",
    "epochs = range(1,len(acc)+1)\n",
    "\n",
    "plt.plot(epochs,loss,'ro',label = 'Training Loss')\n",
    "plt.plot(epochs, val_loss, 'r', label = 'Validation Loss')\n",
    "plt.title('Training and validation loss')\n",
    "plt.legend()\n",
    "plt.show()\n",
    "\n",
    "plt.plot(epochs,acc,'bo',label = 'Training Accuracy')\n",
    "plt.plot(epochs, val_acc, 'b', label = 'Validation Accuracy')\n",
    "plt.title('Training and validation accuracy')\n",
    "plt.legend()\n",
    "plt.show()"
   ]
  },
  {
   "cell_type": "code",
   "execution_count": 14,
   "metadata": {},
   "outputs": [
    {
     "name": "stdout",
     "output_type": "stream",
     "text": [
      "10000/10000 [==============================] - 6s 582us/step\n"
     ]
    }
   ],
   "source": [
    "test_loss,test_accuracy  = model.evaluate(test_images,test_labels)"
   ]
  },
  {
   "cell_type": "code",
   "execution_count": 15,
   "metadata": {},
   "outputs": [
    {
     "name": "stdout",
     "output_type": "stream",
     "text": [
      "Test accuracy : 0.9115\n"
     ]
    }
   ],
   "source": [
    "print (\"Test accuracy :\",test_accuracy)"
   ]
  },
  {
   "cell_type": "code",
   "execution_count": null,
   "metadata": {},
   "outputs": [],
   "source": []
  }
 ],
 "metadata": {
  "kernelspec": {
   "display_name": "Python 3",
   "language": "python",
   "name": "python3"
  },
  "language_info": {
   "codemirror_mode": {
    "name": "ipython",
    "version": 3
   },
   "file_extension": ".py",
   "mimetype": "text/x-python",
   "name": "python",
   "nbconvert_exporter": "python",
   "pygments_lexer": "ipython3",
   "version": "3.7.5"
  }
 },
 "nbformat": 4,
 "nbformat_minor": 2
}
