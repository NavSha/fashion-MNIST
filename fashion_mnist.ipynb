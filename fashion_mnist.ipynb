{
  "nbformat": 4,
  "nbformat_minor": 0,
  "metadata": {
    "kernelspec": {
      "name": "python3",
      "display_name": "Python 3"
    },
    "language_info": {
      "codemirror_mode": {
        "name": "ipython",
        "version": 3
      },
      "file_extension": ".py",
      "mimetype": "text/x-python",
      "name": "python",
      "nbconvert_exporter": "python",
      "pygments_lexer": "ipython3",
      "version": "3.7.5"
    },
    "colab": {
      "name": "fashion_mnist.ipynb",
      "provenance": [],
      "collapsed_sections": []
    },
    "accelerator": "GPU"
  },
  "cells": [
    {
      "cell_type": "code",
      "metadata": {
        "id": "qUAJ3IEQOY-W",
        "colab_type": "code",
        "colab": {
          "base_uri": "https://localhost:8080/",
          "height": 80
        },
        "outputId": "03b498f8-c580-46e5-8969-1707327da186"
      },
      "source": [
        "import keras\n",
        "import numpy as np\n",
        "import os\n",
        "from keras.callbacks import ModelCheckpoint, EarlyStopping, ReduceLROnPlateau, TensorBoard\n",
        "import matplotlib.pyplot as plt\n",
        "import datetime\n",
        "os.environ['KMP_DUPLICATE_LIB_OK']='True'\n",
        "from keras import models,layers\n",
        "from keras.applications import VGG16"
      ],
      "execution_count": 1,
      "outputs": [
        {
          "output_type": "stream",
          "text": [
            "Using TensorFlow backend.\n"
          ],
          "name": "stderr"
        },
        {
          "output_type": "display_data",
          "data": {
            "text/html": [
              "<p style=\"color: red;\">\n",
              "The default version of TensorFlow in Colab will soon switch to TensorFlow 2.x.<br>\n",
              "We recommend you <a href=\"https://www.tensorflow.org/guide/migrate\" target=\"_blank\">upgrade</a> now \n",
              "or ensure your notebook will continue to use TensorFlow 1.x via the <code>%tensorflow_version 1.x</code> magic:\n",
              "<a href=\"https://colab.research.google.com/notebooks/tensorflow_version.ipynb\" target=\"_blank\">more info</a>.</p>\n"
            ],
            "text/plain": [
              "<IPython.core.display.HTML object>"
            ]
          },
          "metadata": {
            "tags": []
          }
        }
      ]
    },
    {
      "cell_type": "code",
      "metadata": {
        "id": "dQ49x2iCOY-g",
        "colab_type": "code",
        "colab": {
          "base_uri": "https://localhost:8080/",
          "height": 153
        },
        "outputId": "64831d24-629b-4733-d7ed-08417d86a9f7"
      },
      "source": [
        "#load the Fashion MNIST data\n",
        "fashion_mnist = keras.datasets.fashion_mnist\n",
        "(train_images,train_labels),(test_images,test_labels) = fashion_mnist.load_data()\n"
      ],
      "execution_count": 2,
      "outputs": [
        {
          "output_type": "stream",
          "text": [
            "Downloading data from http://fashion-mnist.s3-website.eu-central-1.amazonaws.com/train-labels-idx1-ubyte.gz\n",
            "32768/29515 [=================================] - 0s 0us/step\n",
            "Downloading data from http://fashion-mnist.s3-website.eu-central-1.amazonaws.com/train-images-idx3-ubyte.gz\n",
            "26427392/26421880 [==============================] - 0s 0us/step\n",
            "Downloading data from http://fashion-mnist.s3-website.eu-central-1.amazonaws.com/t10k-labels-idx1-ubyte.gz\n",
            "8192/5148 [===============================================] - 0s 0us/step\n",
            "Downloading data from http://fashion-mnist.s3-website.eu-central-1.amazonaws.com/t10k-images-idx3-ubyte.gz\n",
            "4423680/4422102 [==============================] - 0s 0us/step\n"
          ],
          "name": "stdout"
        }
      ]
    },
    {
      "cell_type": "code",
      "metadata": {
        "id": "13casqjo1sSb",
        "colab_type": "code",
        "colab": {
          "base_uri": "https://localhost:8080/",
          "height": 302
        },
        "outputId": "4b1d2ef6-4975-453c-a38e-7ce323fc24a9"
      },
      "source": [
        "# summarize loaded dataset\n",
        "print('Train: X=%s, y=%s' % (train_images.shape, train_labels.shape))\n",
        "print('Test: X=%s, y=%s' % (test_images.shape, test_labels.shape))\n",
        "# plot first few images\n",
        "for i in range(9):\n",
        "\t# define subplot\n",
        "\tplt.subplot(330 + 1 + i)\n",
        "\t# plot raw pixel data\n",
        "\tplt.imshow(train_images[i], cmap=plt.get_cmap('gray'))\n",
        "# show the figure\n",
        "plt.show()"
      ],
      "execution_count": 3,
      "outputs": [
        {
          "output_type": "stream",
          "text": [
            "Train: X=(60000, 28, 28), y=(60000,)\n",
            "Test: X=(10000, 28, 28), y=(10000,)\n"
          ],
          "name": "stdout"
        },
        {
          "output_type": "display_data",
          "data": {
            "image/png": "[encoded data removed]",
            "text/plain": [
              "<Figure size 432x288 with 9 Axes>"
            ]
          },
          "metadata": {
            "tags": []
          }
        }
      ]
    },
    {
      "cell_type": "code",
      "metadata": {
        "id": "_JXPo99KOY-j",
        "colab_type": "code",
        "colab": {}
      },
      "source": [
        "# Deviding pixel values by 255 to get them between 0-1 for easier training\n",
        "train_images = train_images.reshape((60000,28,28,1))\n",
        "train_images = train_images/255.0\n",
        "test_images = test_images.reshape((10000,28,28,1))\n",
        "test_images = test_images/255.0"
      ],
      "execution_count": 0,
      "outputs": []
    },
    {
      "cell_type": "code",
      "metadata": {
        "id": "EwEDEH2qOY-m",
        "colab_type": "code",
        "colab": {}
      },
      "source": [
        "#lets create validation data from the training dataset\n",
        "val_train_images  = train_images[:10000]\n",
        "val_train_labels = train_labels[:10000]"
      ],
      "execution_count": 0,
      "outputs": []
    },
    {
      "cell_type": "code",
      "metadata": {
        "id": "TOn-OkRdOY-s",
        "colab_type": "code",
        "colab": {}
      },
      "source": [
        "#Remaining training data\n",
        "partial_train_images = train_images[10000:]\n",
        "partial_train_labels = train_labels[10000:]"
      ],
      "execution_count": 0,
      "outputs": []
    },
    {
      "cell_type": "code",
      "metadata": {
        "id": "g_v0cXb3OY-z",
        "colab_type": "code",
        "colab": {}
      },
      "source": [
        "# Save classnames for later use\n",
        "class_names = ['T-shirt/top', 'Trouser', 'Pullover', 'Dress', 'Coat',\n",
        "               'Sandal', 'Shirt', 'Sneaker', 'Bag', 'Ankle boot']"
      ],
      "execution_count": 0,
      "outputs": []
    },
    {
      "cell_type": "code",
      "metadata": {
        "id": "dNnkF-hUOY_G",
        "colab_type": "code",
        "colab": {}
      },
      "source": [
        "#define a small CNN network\n",
        "def create_model():\n",
        "  model = models.Sequential()\n",
        "  model.add(layers.Conv2D(32, (3,3), padding = 'same', activation = 'relu', kernel_initializer='he_uniform', input_shape=(28,28,1)))\n",
        "  model.add(layers.Conv2D(32, (3,3), padding = 'same', activation = 'relu', kernel_initializer='he_uniform'))\n",
        "  model.add(layers.MaxPooling2D((2,2)))\n",
        "  model.add(layers.Dropout(0.5))\n",
        "  model.add(layers.Conv2D(64, (3,3), padding = 'same', activation = 'relu',kernel_initializer='he_uniform'))\n",
        "  model.add(layers.Conv2D(64, (3,3), padding = 'same', activation = 'relu',kernel_initializer='he_uniform'))\n",
        "  model.add(layers.MaxPooling2D((2,2)))\n",
        "  model.add(layers.Dropout(0.5))\n",
        "  model.add(layers.Flatten())\n",
        "  model.add(layers.Dense(512, activation = 'relu'))\n",
        "  model.add(layers.Dropout(0.25))\n",
        "  model.add(layers.Dense(10, activation = 'softmax'))\n",
        "  return model\n",
        "\n"
      ],
      "execution_count": 0,
      "outputs": []
    },
    {
      "cell_type": "code",
      "metadata": {
        "id": "Pf05cm1pt1NF",
        "colab_type": "code",
        "colab": {
          "base_uri": "https://localhost:8080/",
          "height": 258
        },
        "outputId": "21092df4-99ee-40a8-d7d8-f9f305c43672"
      },
      "source": [
        "model = create_model()"
      ],
      "execution_count": 9,
      "outputs": [
        {
          "output_type": "stream",
          "text": [
            "WARNING:tensorflow:From /usr/local/lib/python3.6/dist-packages/keras/backend/tensorflow_backend.py:66: The name tf.get_default_graph is deprecated. Please use tf.compat.v1.get_default_graph instead.\n",
            "\n",
            "WARNING:tensorflow:From /usr/local/lib/python3.6/dist-packages/keras/backend/tensorflow_backend.py:541: The name tf.placeholder is deprecated. Please use tf.compat.v1.placeholder instead.\n",
            "\n",
            "WARNING:tensorflow:From /usr/local/lib/python3.6/dist-packages/keras/backend/tensorflow_backend.py:4432: The name tf.random_uniform is deprecated. Please use tf.random.uniform instead.\n",
            "\n",
            "WARNING:tensorflow:From /usr/local/lib/python3.6/dist-packages/keras/backend/tensorflow_backend.py:4267: The name tf.nn.max_pool is deprecated. Please use tf.nn.max_pool2d instead.\n",
            "\n",
            "WARNING:tensorflow:From /usr/local/lib/python3.6/dist-packages/keras/backend/tensorflow_backend.py:148: The name tf.placeholder_with_default is deprecated. Please use tf.compat.v1.placeholder_with_default instead.\n",
            "\n",
            "WARNING:tensorflow:From /usr/local/lib/python3.6/dist-packages/keras/backend/tensorflow_backend.py:3733: calling dropout (from tensorflow.python.ops.nn_ops) with keep_prob is deprecated and will be removed in a future version.\n",
            "Instructions for updating:\n",
            "Please use `rate` instead of `keep_prob`. Rate should be set to `rate = 1 - keep_prob`.\n"
          ],
          "name": "stdout"
        }
      ]
    },
    {
      "cell_type": "code",
      "metadata": {
        "id": "ZmMT368Jt6h7",
        "colab_type": "code",
        "colab": {
          "base_uri": "https://localhost:8080/",
          "height": 561
        },
        "outputId": "cbf66128-75f5-4b65-da06-66652ebc4c20"
      },
      "source": [
        "model.summary()"
      ],
      "execution_count": 10,
      "outputs": [
        {
          "output_type": "stream",
          "text": [
            "Model: \"sequential_1\"\n",
            "_________________________________________________________________\n",
            "Layer (type)                 Output Shape              Param #   \n",
            "=================================================================\n",
            "conv2d_1 (Conv2D)            (None, 28, 28, 32)        320       \n",
            "_________________________________________________________________\n",
            "conv2d_2 (Conv2D)            (None, 28, 28, 32)        9248      \n",
            "_________________________________________________________________\n",
            "max_pooling2d_1 (MaxPooling2 (None, 14, 14, 32)        0         \n",
            "_________________________________________________________________\n",
            "dropout_1 (Dropout)          (None, 14, 14, 32)        0         \n",
            "_________________________________________________________________\n",
            "conv2d_3 (Conv2D)            (None, 14, 14, 64)        18496     \n",
            "_________________________________________________________________\n",
            "conv2d_4 (Conv2D)            (None, 14, 14, 64)        36928     \n",
            "_________________________________________________________________\n",
            "max_pooling2d_2 (MaxPooling2 (None, 7, 7, 64)          0         \n",
            "_________________________________________________________________\n",
            "dropout_2 (Dropout)          (None, 7, 7, 64)          0         \n",
            "_________________________________________________________________\n",
            "flatten_1 (Flatten)          (None, 3136)              0         \n",
            "_________________________________________________________________\n",
            "dense_1 (Dense)              (None, 512)               1606144   \n",
            "_________________________________________________________________\n",
            "dropout_3 (Dropout)          (None, 512)               0         \n",
            "_________________________________________________________________\n",
            "dense_2 (Dense)              (None, 10)                5130      \n",
            "=================================================================\n",
            "Total params: 1,676,266\n",
            "Trainable params: 1,676,266\n",
            "Non-trainable params: 0\n",
            "_________________________________________________________________\n"
          ],
          "name": "stdout"
        }
      ]
    },
    {
      "cell_type": "code",
      "metadata": {
        "id": "dxYPpWalOY_R",
        "colab_type": "code",
        "colab": {
          "base_uri": "https://localhost:8080/",
          "height": 105
        },
        "outputId": "5dda9de1-2f23-4d55-b2a6-fd9df77e9ab5"
      },
      "source": [
        "# compile the model defined above\n",
        "from keras.optimizers import Adam\n",
        "opt = Adam(lr=0.001)\n",
        "model.compile(optimizer = opt, loss = 'sparse_categorical_crossentropy', metrics = ['accuracy'])"
      ],
      "execution_count": 11,
      "outputs": [
        {
          "output_type": "stream",
          "text": [
            "WARNING:tensorflow:From /usr/local/lib/python3.6/dist-packages/keras/optimizers.py:793: The name tf.train.Optimizer is deprecated. Please use tf.compat.v1.train.Optimizer instead.\n",
            "\n",
            "WARNING:tensorflow:From /usr/local/lib/python3.6/dist-packages/keras/backend/tensorflow_backend.py:3622: The name tf.log is deprecated. Please use tf.math.log instead.\n",
            "\n"
          ],
          "name": "stdout"
        }
      ]
    },
    {
      "cell_type": "code",
      "metadata": {
        "id": "RV2QpP1kOY_z",
        "colab_type": "code",
        "colab": {}
      },
      "source": [
        "#Add callbacks for more efficient training of the models\n",
        "#log_dir = \"logs/fit/\" + datetime.datetime.now().strftime(\"%Y%m%d-%H%M%S\")\n",
        "stop = EarlyStopping(monitor = 'val_loss', patience = 10,verbose=1)\n",
        "checkpoint = ModelCheckpoint(filepath='fashion_mnist_weights.h5',monitor='val_loss',verbose = 1, save_best_only = True)\n",
        "reduce = ReduceLROnPlateau(monitor='val_loss',factor = 0.1, patience = 3, verbose = 1)\n",
        "#tensorboard = TensorBoard(log_dir=log_dir, histogram_freq=1, batch_size=128, write_graph = True, write_grads = True, write_images = True)\n",
        "\n"
      ],
      "execution_count": 0,
      "outputs": []
    },
    {
      "cell_type": "code",
      "metadata": {
        "id": "LhLwgyyUOZAP",
        "colab_type": "code",
        "colab": {
          "base_uri": "https://localhost:8080/",
          "height": 1000
        },
        "outputId": "79d44b8f-1996-44d9-ace3-6be5a0ab8bfe"
      },
      "source": [
        "#train the model on the partial training data and save results in history object\n",
        "history = model.fit(partial_train_images,partial_train_labels, epochs = 100, batch_size = 128, validation_data = (val_train_images,val_train_labels), callbacks = [stop,checkpoint,reduce])\n",
        "\n"
      ],
      "execution_count": 13,
      "outputs": [
        {
          "output_type": "stream",
          "text": [
            "WARNING:tensorflow:From /usr/local/lib/python3.6/dist-packages/tensorflow_core/python/ops/math_grad.py:1424: where (from tensorflow.python.ops.array_ops) is deprecated and will be removed in a future version.\n",
            "Instructions for updating:\n",
            "Use tf.where in 2.0, which has the same broadcast rule as np.where\n",
            "WARNING:tensorflow:From /usr/local/lib/python3.6/dist-packages/keras/backend/tensorflow_backend.py:1033: The name tf.assign_add is deprecated. Please use tf.compat.v1.assign_add instead.\n",
            "\n",
            "WARNING:tensorflow:From /usr/local/lib/python3.6/dist-packages/keras/backend/tensorflow_backend.py:1020: The name tf.assign is deprecated. Please use tf.compat.v1.assign instead.\n",
            "\n",
            "WARNING:tensorflow:From /usr/local/lib/python3.6/dist-packages/keras/backend/tensorflow_backend.py:3005: The name tf.Session is deprecated. Please use tf.compat.v1.Session instead.\n",
            "\n",
            "Train on 50000 samples, validate on 10000 samples\n",
            "Epoch 1/100\n",
            "WARNING:tensorflow:From /usr/local/lib/python3.6/dist-packages/keras/backend/tensorflow_backend.py:190: The name tf.get_default_session is deprecated. Please use tf.compat.v1.get_default_session instead.\n",
            "\n",
            "WARNING:tensorflow:From /usr/local/lib/python3.6/dist-packages/keras/backend/tensorflow_backend.py:197: The name tf.ConfigProto is deprecated. Please use tf.compat.v1.ConfigProto instead.\n",
            "\n",
            "WARNING:tensorflow:From /usr/local/lib/python3.6/dist-packages/keras/backend/tensorflow_backend.py:207: The name tf.global_variables is deprecated. Please use tf.compat.v1.global_variables instead.\n",
            "\n",
            "WARNING:tensorflow:From /usr/local/lib/python3.6/dist-packages/keras/backend/tensorflow_backend.py:216: The name tf.is_variable_initialized is deprecated. Please use tf.compat.v1.is_variable_initialized instead.\n",
            "\n",
            "WARNING:tensorflow:From /usr/local/lib/python3.6/dist-packages/keras/backend/tensorflow_backend.py:223: The name tf.variables_initializer is deprecated. Please use tf.compat.v1.variables_initializer instead.\n",
            "\n",
            "50000/50000 [==============================] - 11s 219us/step - loss: 0.6910 - acc: 0.7565 - val_loss: 0.3523 - val_acc: 0.8721\n",
            "\n",
            "Epoch 00001: val_loss improved from inf to 0.35232, saving model to fashion_mnist_weights.h5\n",
            "Epoch 2/100\n",
            "50000/50000 [==============================] - 4s 75us/step - loss: 0.3929 - acc: 0.8567 - val_loss: 0.3016 - val_acc: 0.8906\n",
            "\n",
            "Epoch 00002: val_loss improved from 0.35232 to 0.30161, saving model to fashion_mnist_weights.h5\n",
            "Epoch 3/100\n",
            "50000/50000 [==============================] - 4s 75us/step - loss: 0.3394 - acc: 0.8733 - val_loss: 0.3104 - val_acc: 0.8785\n",
            "\n",
            "Epoch 00003: val_loss did not improve from 0.30161\n",
            "Epoch 4/100\n",
            "50000/50000 [==============================] - 4s 74us/step - loss: 0.3072 - acc: 0.8846 - val_loss: 0.2375 - val_acc: 0.9111\n",
            "\n",
            "Epoch 00004: val_loss improved from 0.30161 to 0.23750, saving model to fashion_mnist_weights.h5\n",
            "Epoch 5/100\n",
            "50000/50000 [==============================] - 4s 75us/step - loss: 0.2841 - acc: 0.8936 - val_loss: 0.2271 - val_acc: 0.9136\n",
            "\n",
            "Epoch 00005: val_loss improved from 0.23750 to 0.22706, saving model to fashion_mnist_weights.h5\n",
            "Epoch 6/100\n",
            "50000/50000 [==============================] - 4s 74us/step - loss: 0.2692 - acc: 0.8993 - val_loss: 0.2210 - val_acc: 0.9159\n",
            "\n",
            "Epoch 00006: val_loss improved from 0.22706 to 0.22102, saving model to fashion_mnist_weights.h5\n",
            "Epoch 7/100\n",
            "50000/50000 [==============================] - 4s 74us/step - loss: 0.2498 - acc: 0.9062 - val_loss: 0.2060 - val_acc: 0.9206\n",
            "\n",
            "Epoch 00007: val_loss improved from 0.22102 to 0.20597, saving model to fashion_mnist_weights.h5\n",
            "Epoch 8/100\n",
            "50000/50000 [==============================] - 4s 75us/step - loss: 0.2402 - acc: 0.9108 - val_loss: 0.1958 - val_acc: 0.9254\n",
            "\n",
            "Epoch 00008: val_loss improved from 0.20597 to 0.19583, saving model to fashion_mnist_weights.h5\n",
            "Epoch 9/100\n",
            "50000/50000 [==============================] - 4s 73us/step - loss: 0.2313 - acc: 0.9131 - val_loss: 0.1973 - val_acc: 0.9245\n",
            "\n",
            "Epoch 00009: val_loss did not improve from 0.19583\n",
            "Epoch 10/100\n",
            "50000/50000 [==============================] - 4s 74us/step - loss: 0.2217 - acc: 0.9176 - val_loss: 0.1976 - val_acc: 0.9260\n",
            "\n",
            "Epoch 00010: val_loss did not improve from 0.19583\n",
            "Epoch 11/100\n",
            "50000/50000 [==============================] - 4s 73us/step - loss: 0.2123 - acc: 0.9198 - val_loss: 0.1858 - val_acc: 0.9279\n",
            "\n",
            "Epoch 00011: val_loss improved from 0.19583 to 0.18584, saving model to fashion_mnist_weights.h5\n",
            "Epoch 12/100\n",
            "50000/50000 [==============================] - 4s 73us/step - loss: 0.2040 - acc: 0.9239 - val_loss: 0.1827 - val_acc: 0.9320\n",
            "\n",
            "Epoch 00012: val_loss improved from 0.18584 to 0.18272, saving model to fashion_mnist_weights.h5\n",
            "Epoch 13/100\n",
            "50000/50000 [==============================] - 4s 74us/step - loss: 0.1971 - acc: 0.9252 - val_loss: 0.1795 - val_acc: 0.9335\n",
            "\n",
            "Epoch 00013: val_loss improved from 0.18272 to 0.17953, saving model to fashion_mnist_weights.h5\n",
            "Epoch 14/100\n",
            "50000/50000 [==============================] - 4s 73us/step - loss: 0.1905 - acc: 0.9286 - val_loss: 0.1932 - val_acc: 0.9278\n",
            "\n",
            "Epoch 00014: val_loss did not improve from 0.17953\n",
            "Epoch 15/100\n",
            "50000/50000 [==============================] - 4s 74us/step - loss: 0.1888 - acc: 0.9291 - val_loss: 0.1810 - val_acc: 0.9335\n",
            "\n",
            "Epoch 00015: val_loss did not improve from 0.17953\n",
            "Epoch 16/100\n",
            "50000/50000 [==============================] - 4s 74us/step - loss: 0.1790 - acc: 0.9329 - val_loss: 0.1721 - val_acc: 0.9353\n",
            "\n",
            "Epoch 00016: val_loss improved from 0.17953 to 0.17211, saving model to fashion_mnist_weights.h5\n",
            "Epoch 17/100\n",
            "50000/50000 [==============================] - 4s 73us/step - loss: 0.1764 - acc: 0.9339 - val_loss: 0.1801 - val_acc: 0.9331\n",
            "\n",
            "Epoch 00017: val_loss did not improve from 0.17211\n",
            "Epoch 18/100\n",
            "50000/50000 [==============================] - 4s 74us/step - loss: 0.1708 - acc: 0.9369 - val_loss: 0.1825 - val_acc: 0.9318\n",
            "\n",
            "Epoch 00018: val_loss did not improve from 0.17211\n",
            "Epoch 19/100\n",
            "50000/50000 [==============================] - 4s 74us/step - loss: 0.1694 - acc: 0.9360 - val_loss: 0.1827 - val_acc: 0.9317\n",
            "\n",
            "Epoch 00019: val_loss did not improve from 0.17211\n",
            "\n",
            "Epoch 00019: ReduceLROnPlateau reducing learning rate to 0.00010000000474974513.\n",
            "Epoch 20/100\n",
            "50000/50000 [==============================] - 4s 73us/step - loss: 0.1443 - acc: 0.9453 - val_loss: 0.1624 - val_acc: 0.9413\n",
            "\n",
            "Epoch 00020: val_loss improved from 0.17211 to 0.16244, saving model to fashion_mnist_weights.h5\n",
            "Epoch 21/100\n",
            "50000/50000 [==============================] - 4s 73us/step - loss: 0.1341 - acc: 0.9494 - val_loss: 0.1633 - val_acc: 0.9394\n",
            "\n",
            "Epoch 00021: val_loss did not improve from 0.16244\n",
            "Epoch 22/100\n",
            "50000/50000 [==============================] - 4s 73us/step - loss: 0.1312 - acc: 0.9501 - val_loss: 0.1611 - val_acc: 0.9424\n",
            "\n",
            "Epoch 00022: val_loss improved from 0.16244 to 0.16114, saving model to fashion_mnist_weights.h5\n",
            "Epoch 23/100\n",
            "50000/50000 [==============================] - 4s 74us/step - loss: 0.1306 - acc: 0.9503 - val_loss: 0.1603 - val_acc: 0.9419\n",
            "\n",
            "Epoch 00023: val_loss improved from 0.16114 to 0.16027, saving model to fashion_mnist_weights.h5\n",
            "Epoch 24/100\n",
            "50000/50000 [==============================] - 4s 74us/step - loss: 0.1275 - acc: 0.9525 - val_loss: 0.1608 - val_acc: 0.9421\n",
            "\n",
            "Epoch 00024: val_loss did not improve from 0.16027\n",
            "Epoch 25/100\n",
            "50000/50000 [==============================] - 4s 74us/step - loss: 0.1242 - acc: 0.9524 - val_loss: 0.1598 - val_acc: 0.9431\n",
            "\n",
            "Epoch 00025: val_loss improved from 0.16027 to 0.15982, saving model to fashion_mnist_weights.h5\n",
            "Epoch 26/100\n",
            "50000/50000 [==============================] - 4s 73us/step - loss: 0.1229 - acc: 0.9525 - val_loss: 0.1607 - val_acc: 0.9441\n",
            "\n",
            "Epoch 00026: val_loss did not improve from 0.15982\n",
            "Epoch 27/100\n",
            "50000/50000 [==============================] - 4s 72us/step - loss: 0.1236 - acc: 0.9542 - val_loss: 0.1619 - val_acc: 0.9432\n",
            "\n",
            "Epoch 00027: val_loss did not improve from 0.15982\n",
            "Epoch 28/100\n",
            "50000/50000 [==============================] - 4s 75us/step - loss: 0.1200 - acc: 0.9548 - val_loss: 0.1622 - val_acc: 0.9437\n",
            "\n",
            "Epoch 00028: val_loss did not improve from 0.15982\n",
            "\n",
            "Epoch 00028: ReduceLROnPlateau reducing learning rate to 1.0000000474974514e-05.\n",
            "Epoch 29/100\n",
            "50000/50000 [==============================] - 4s 76us/step - loss: 0.1212 - acc: 0.9542 - val_loss: 0.1615 - val_acc: 0.9432\n",
            "\n",
            "Epoch 00029: val_loss did not improve from 0.15982\n",
            "Epoch 30/100\n",
            "50000/50000 [==============================] - 4s 76us/step - loss: 0.1164 - acc: 0.9561 - val_loss: 0.1612 - val_acc: 0.9433\n",
            "\n",
            "Epoch 00030: val_loss did not improve from 0.15982\n",
            "Epoch 31/100\n",
            "50000/50000 [==============================] - 4s 76us/step - loss: 0.1170 - acc: 0.9558 - val_loss: 0.1612 - val_acc: 0.9436\n",
            "\n",
            "Epoch 00031: val_loss did not improve from 0.15982\n",
            "\n",
            "Epoch 00031: ReduceLROnPlateau reducing learning rate to 1.0000000656873453e-06.\n",
            "Epoch 32/100\n",
            "50000/50000 [==============================] - 4s 74us/step - loss: 0.1146 - acc: 0.9561 - val_loss: 0.1612 - val_acc: 0.9436\n",
            "\n",
            "Epoch 00032: val_loss did not improve from 0.15982\n",
            "Epoch 33/100\n",
            "50000/50000 [==============================] - 4s 74us/step - loss: 0.1165 - acc: 0.9559 - val_loss: 0.1612 - val_acc: 0.9437\n",
            "\n",
            "Epoch 00033: val_loss did not improve from 0.15982\n",
            "Epoch 34/100\n",
            "50000/50000 [==============================] - 4s 74us/step - loss: 0.1189 - acc: 0.9549 - val_loss: 0.1612 - val_acc: 0.9438\n",
            "\n",
            "Epoch 00034: val_loss did not improve from 0.15982\n",
            "\n",
            "Epoch 00034: ReduceLROnPlateau reducing learning rate to 1.0000001111620805e-07.\n",
            "Epoch 35/100\n",
            "50000/50000 [==============================] - 4s 72us/step - loss: 0.1153 - acc: 0.9563 - val_loss: 0.1612 - val_acc: 0.9438\n",
            "\n",
            "Epoch 00035: val_loss did not improve from 0.15982\n",
            "Epoch 00035: early stopping\n"
          ],
          "name": "stdout"
        }
      ]
    },
    {
      "cell_type": "code",
      "metadata": {
        "id": "eozKcpBuOZAR",
        "colab_type": "code",
        "colab": {}
      },
      "source": [
        "#save model weights in a h5 file\n",
        "model.save('fashion_mnist_weights.h5')\n",
        "#save model in a json file\n",
        "model_json = model.to_json()\n",
        "with open('fashion_mnist_model.json',\"w\") as json_file:\n",
        "    json_file.write(model_json)"
      ],
      "execution_count": 0,
      "outputs": []
    },
    {
      "cell_type": "code",
      "metadata": {
        "id": "y0Weg_YUnFxl",
        "colab_type": "code",
        "colab": {}
      },
      "source": [
        "from google.colab import files\n",
        "files.download(\"fashion_mnist_weights.h5\")\n",
        "files.download(\"fashion_mnist_model.json\") "
      ],
      "execution_count": 0,
      "outputs": []
    },
    {
      "cell_type": "code",
      "metadata": {
        "id": "8g4MWR2hOZAT",
        "colab_type": "code",
        "colab": {
          "base_uri": "https://localhost:8080/",
          "height": 545
        },
        "outputId": "85ef3a0d-2ddf-419b-c5d8-dcb3c95d116d"
      },
      "source": [
        "#plot loss and validation curves during Training\n",
        "acc = history.history['acc']\n",
        "val_acc = history.history['val_acc']\n",
        "loss = history.history['loss']\n",
        "val_loss = history.history['val_loss']\n",
        "\n",
        "epochs = range(1,len(acc)+1)\n",
        "\n",
        "plt.plot(epochs,loss,'ro',label = 'Training Loss')\n",
        "plt.plot(epochs, val_loss, 'r', label = 'Validation Loss')\n",
        "plt.title('Training and validation loss')\n",
        "plt.legend()\n",
        "plt.show()\n",
        "\n",
        "plt.plot(epochs,acc,'bo',label = 'Training Accuracy')\n",
        "plt.plot(epochs, val_acc, 'b', label = 'Validation Accuracy')\n",
        "plt.title('Training and validation accuracy')\n",
        "plt.legend()\n",
        "plt.show()"
      ],
      "execution_count": 15,
      "outputs": [
        {
          "output_type": "display_data",
          "data": {
            "image/png": "[encoded data removed]",
            "text/plain": [
              "<Figure size 432x288 with 1 Axes>"
            ]
          },
          "metadata": {
            "tags": []
          }
        },
        {
          "output_type": "display_data",
          "data": {
            "image/png": "[encoded data removed]",
            "text/plain": [
              "<Figure size 432x288 with 1 Axes>"
            ]
          },
          "metadata": {
            "tags": []
          }
        }
      ]
    },
    {
      "cell_type": "code",
      "metadata": {
        "id": "QfOolT2FOZAW",
        "colab_type": "code",
        "colab": {
          "base_uri": "https://localhost:8080/",
          "height": 34
        },
        "outputId": "767a33ae-7034-4f28-c4fc-c04a41a00b4e"
      },
      "source": [
        "test_loss,test_accuracy  = model.evaluate(test_images,test_labels)"
      ],
      "execution_count": 16,
      "outputs": [
        {
          "output_type": "stream",
          "text": [
            "10000/10000 [==============================] - 1s 64us/step\n"
          ],
          "name": "stdout"
        }
      ]
    },
    {
      "cell_type": "code",
      "metadata": {
        "id": "AvsJQ2eHOZAb",
        "colab_type": "code",
        "colab": {
          "base_uri": "https://localhost:8080/",
          "height": 34
        },
        "outputId": "d290ca05-ed74-4d22-ac37-fbc9724903a2"
      },
      "source": [
        "print (\"Test accuracy :\",test_accuracy)"
      ],
      "execution_count": 17,
      "outputs": [
        {
          "output_type": "stream",
          "text": [
            "Test accuracy : 0.9369\n"
          ],
          "name": "stdout"
        }
      ]
    }
  ]
}